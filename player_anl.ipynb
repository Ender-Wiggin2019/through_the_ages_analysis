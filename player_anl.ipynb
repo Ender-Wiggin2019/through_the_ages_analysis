{
 "cells": [
  {
   "cell_type": "code",
   "execution_count": 298,
   "source": [
    "import pandas as pd\r\n",
    "import numpy as np\r\n",
    "from bokeh.io import show\r\n",
    "from bokeh.models import Button, CustomJS, Select, Slider, Toggle\r\n",
    "from bokeh.layouts import column, row\r\n",
    "from bokeh.io import curdoc\r\n",
    "from bokeh.models import ColumnDataSource, DataRange1d, Select, CheckboxButtonGroup, TextInput, MultiChoice,TableColumn,widgets, DataTable\r\n",
    "from bokeh.palettes import Blues4\r\n",
    "from bokeh.plotting import figure"
   ],
   "outputs": [],
   "metadata": {}
  },
  {
   "cell_type": "code",
   "execution_count": 299,
   "source": [
    "df = pd.read_csv(\"./raw_data.csv\",encoding=\"utf-8\")"
   ],
   "outputs": [],
   "metadata": {}
  },
  {
   "cell_type": "code",
   "execution_count": 300,
   "source": [
    "# generate player list\r\n",
    "df2 = df.drop_duplicates()\r\n",
    "df2 = pd.concat([df2[\"player_win\"],df2[\"player_lose\"]]).drop_duplicates()\r\n",
    "print(len(players))"
   ],
   "outputs": [
    {
     "output_type": "stream",
     "name": "stdout",
     "text": [
      "318\n"
     ]
    }
   ],
   "metadata": {}
  },
  {
   "cell_type": "code",
   "execution_count": 301,
   "source": [
    "# geenrate dim table\r\n",
    "# df2 = df.drop_duplicates()\r\n",
    "# leader = pd.concat([df2[\"wla\"],df2[\"wl1\"],df2[\"wl2\"],df2[\"wl3\"]]).drop_duplicates()\r\n",
    "# wonder = pd.concat([df2[\"ww1\"],df2[\"ww2\"],df2[\"ww3\"],df2[\"ww4\"],df2[\"ww5\"],df2[\"ww6\"]]).drop_duplicates()\r\n",
    "# leader = leader[leader!='0'].rename(\"leader\")\r\n",
    "# wonder = wonder[wonder!='0'].rename(\"wonder\")\r\n",
    "# leader.to_csv('./leader.csv',index=False)\r\n",
    "# wonder.to_csv('./wonder.csv',index=False)"
   ],
   "outputs": [],
   "metadata": {}
  },
  {
   "cell_type": "markdown",
   "source": [
    "## Player Win Rate"
   ],
   "metadata": {}
  },
  {
   "cell_type": "code",
   "execution_count": 302,
   "source": [
    "leader = pd.read_csv(\"./leader.csv\",encoding=\"utf-8\",index_col=\"leader\")\r\n",
    "wonder = pd.read_csv(\"./wonder.csv\",encoding=\"utf-8\",index_col=\"wonder\")"
   ],
   "outputs": [],
   "metadata": {}
  },
  {
   "cell_type": "code",
   "execution_count": 303,
   "source": [
    "def stdResult(df):\r\n",
    "    df = df.dropna().sort_values(by=[\"age\",\"winrate\",\"card\"],ascending=[True,False,True],key=lambda x:x.map({'A':0,'1':1,'2':2,'3':3}))\r\n",
    "    df[\"winrate\"] = df[\"winrate\"].round(2)\r\n",
    "    df.columns=[\"时代\",\"领袖\",\"胜利\",\"失败\",\"胜率\"]\r\n",
    "    return df\r\n"
   ],
   "outputs": [],
   "metadata": {}
  },
  {
   "cell_type": "code",
   "execution_count": 304,
   "source": [
    "def getLeaderResult(id):\r\n",
    "    res = pd.DataFrame(columns=[\"age\",\"card\",\"win\",\"lose\",\"winrate\"])\r\n",
    "    df_win = df[df[\"player_win\"].isin(id)]\r\n",
    "    df_lose = df[df[\"player_lose\"].isin(id)]\r\n",
    "    for i,v in leader.iterrows():\r\n",
    "        win = df_win[df_win[\"wl\"+v[0]]==i].shape[0]\r\n",
    "        lose = df_lose[df_lose[\"ll\"+v[0]]==i].shape[0]\r\n",
    "        res.loc[res.shape[0]] = [v[0],i,win,lose,win/(win+lose) if win+lose>0 else np.nan]\r\n",
    "    return stdResult(res)"
   ],
   "outputs": [],
   "metadata": {}
  },
  {
   "cell_type": "code",
   "execution_count": 305,
   "source": [
    "def getWonderResult(id):\r\n",
    "    res = pd.DataFrame(columns=[\"age\",\"card\",\"win\",\"lose\",\"winrate\"])\r\n",
    "    df_win = df[df[\"player_win\"].isin(id)]\r\n",
    "    df_lose = df[df[\"player_lose\"].isin(id)]\r\n",
    "    for i,v in wonder.iterrows():\r\n",
    "        win = df_win[(df_win[\"ww1\"]==i)|(df_win[\"ww2\"]==i)|(df_win[\"ww3\"]==i)|(df_win[\"ww4\"]==i)|(df_win[\"ww5\"]==i)|(df_win[\"ww6\"]==i)|(df_win[\"ww7\"]==i)|(df_win[\"ww8\"]==i)].shape[0]\r\n",
    "        lose = df_lose[(df_lose[\"lw1\"]==i)|(df_lose[\"lw2\"]==i)|(df_lose[\"lw3\"]==i)|(df_lose[\"lw4\"]==i)|(df_lose[\"lw5\"]==i)|(df_lose[\"lw6\"]==i)|(df_lose[\"lw7\"]==i)|(df_lose[\"lw8\"]==i)].shape[0]\r\n",
    "        res.loc[res.shape[0]] =  [v[0],i,win,lose,win/(win+lose) if win+lose>0 else np.nan]\r\n",
    "    return stdResult(res)"
   ],
   "outputs": [],
   "metadata": {}
  },
  {
   "cell_type": "code",
   "execution_count": 306,
   "source": [
    "df2 = getWonderResult([\"Ender_Wiggin\"])\r\n",
    "source = ColumnDataSource(df2)\r\n",
    "columns = [TableColumn(field=Ci, title=Ci) for Ci in df2.columns]\r\n",
    "leader_table = DataTable(columns=columns, source=source)\r\n"
   ],
   "outputs": [],
   "metadata": {}
  },
  {
   "cell_type": "code",
   "execution_count": 307,
   "source": [
    "def selectUser(attr,new,old):\r\n",
    "    user_df = getLeaderResult(new)\r\n",
    "    leader_table = DataTable(columns=columns, source=ColumnDataSource(user_df))"
   ],
   "outputs": [],
   "metadata": {}
  },
  {
   "cell_type": "code",
   "execution_count": 310,
   "source": [
    "leaders = [\"Age A Leader\",\"Age I Leader\",\"Age II Leader\",\"Age III Leader\"]\r\n",
    "leader_group = CheckboxButtonGroup(labels=leaders, active=[1,1,1,1])\r\n",
    "leader_group.js_on_click(CustomJS(code=\"\"\"\r\n",
    "    console.log('leader_group: active=' + this.active, this.toString())\r\n",
    "\"\"\"))\r\n",
    "user = MultiChoice(value=[],options=players)\r\n",
    "user.on_change(\"value\",selectUser)\r\n",
    "widg = column(leader_group, user, leader_table)\r\n",
    "\r\n",
    "show(widg)"
   ],
   "outputs": [
    {
     "output_type": "error",
     "ename": "ValueError",
     "evalue": "not all callback values are CustomJS instances",
     "traceback": [
      "\u001b[1;31m---------------------------------------------------------------------------\u001b[0m",
      "\u001b[1;31mValueError\u001b[0m                                Traceback (most recent call last)",
      "\u001b[1;32m<ipython-input-310-7c667e00605f>\u001b[0m in \u001b[0;36m<module>\u001b[1;34m\u001b[0m\n\u001b[0;32m      5\u001b[0m \"\"\"))\n\u001b[0;32m      6\u001b[0m \u001b[0muser\u001b[0m \u001b[1;33m=\u001b[0m \u001b[0mMultiChoice\u001b[0m\u001b[1;33m(\u001b[0m\u001b[0mvalue\u001b[0m\u001b[1;33m=\u001b[0m\u001b[1;33m[\u001b[0m\u001b[1;33m]\u001b[0m\u001b[1;33m,\u001b[0m\u001b[0moptions\u001b[0m\u001b[1;33m=\u001b[0m\u001b[0mplayers\u001b[0m\u001b[1;33m)\u001b[0m\u001b[1;33m\u001b[0m\u001b[1;33m\u001b[0m\u001b[0m\n\u001b[1;32m----> 7\u001b[1;33m \u001b[0muser\u001b[0m\u001b[1;33m.\u001b[0m\u001b[0mjs_on_change\u001b[0m\u001b[1;33m(\u001b[0m\u001b[1;34m\"value\"\u001b[0m\u001b[1;33m,\u001b[0m\u001b[0mselectUser\u001b[0m\u001b[1;33m)\u001b[0m\u001b[1;33m\u001b[0m\u001b[1;33m\u001b[0m\u001b[0m\n\u001b[0m\u001b[0;32m      8\u001b[0m \u001b[0mwidg\u001b[0m \u001b[1;33m=\u001b[0m \u001b[0mcolumn\u001b[0m\u001b[1;33m(\u001b[0m\u001b[0mleader_group\u001b[0m\u001b[1;33m,\u001b[0m \u001b[0muser\u001b[0m\u001b[1;33m,\u001b[0m \u001b[0mleader_table\u001b[0m\u001b[1;33m)\u001b[0m\u001b[1;33m\u001b[0m\u001b[1;33m\u001b[0m\u001b[0m\n\u001b[0;32m      9\u001b[0m \u001b[1;33m\u001b[0m\u001b[0m\n",
      "\u001b[1;32m~\\Miniconda3\\lib\\site-packages\\bokeh\\model.py\u001b[0m in \u001b[0;36mjs_on_change\u001b[1;34m(self, event, *callbacks)\u001b[0m\n\u001b[0;32m    508\u001b[0m         \u001b[1;32mfrom\u001b[0m \u001b[0mbokeh\u001b[0m\u001b[1;33m.\u001b[0m\u001b[0mmodels\u001b[0m \u001b[1;32mimport\u001b[0m \u001b[0mCustomJS\u001b[0m\u001b[1;33m\u001b[0m\u001b[1;33m\u001b[0m\u001b[0m\n\u001b[0;32m    509\u001b[0m         \u001b[1;32mif\u001b[0m \u001b[1;32mnot\u001b[0m \u001b[0mall\u001b[0m\u001b[1;33m(\u001b[0m\u001b[0misinstance\u001b[0m\u001b[1;33m(\u001b[0m\u001b[0mx\u001b[0m\u001b[1;33m,\u001b[0m \u001b[0mCustomJS\u001b[0m\u001b[1;33m)\u001b[0m \u001b[1;32mfor\u001b[0m \u001b[0mx\u001b[0m \u001b[1;32min\u001b[0m \u001b[0mcallbacks\u001b[0m\u001b[1;33m)\u001b[0m\u001b[1;33m:\u001b[0m\u001b[1;33m\u001b[0m\u001b[1;33m\u001b[0m\u001b[0m\n\u001b[1;32m--> 510\u001b[1;33m             \u001b[1;32mraise\u001b[0m \u001b[0mValueError\u001b[0m\u001b[1;33m(\u001b[0m\u001b[1;34m\"not all callback values are CustomJS instances\"\u001b[0m\u001b[1;33m)\u001b[0m\u001b[1;33m\u001b[0m\u001b[1;33m\u001b[0m\u001b[0m\n\u001b[0m\u001b[0;32m    511\u001b[0m \u001b[1;33m\u001b[0m\u001b[0m\n\u001b[0;32m    512\u001b[0m         \u001b[0mdescriptor\u001b[0m \u001b[1;33m=\u001b[0m \u001b[0mself\u001b[0m\u001b[1;33m.\u001b[0m\u001b[0mlookup\u001b[0m\u001b[1;33m(\u001b[0m\u001b[0mevent\u001b[0m\u001b[1;33m,\u001b[0m \u001b[0mraises\u001b[0m\u001b[1;33m=\u001b[0m\u001b[1;32mFalse\u001b[0m\u001b[1;33m)\u001b[0m\u001b[1;33m\u001b[0m\u001b[1;33m\u001b[0m\u001b[0m\n",
      "\u001b[1;31mValueError\u001b[0m: not all callback values are CustomJS instances"
     ]
    }
   ],
   "metadata": {}
  },
  {
   "cell_type": "code",
   "execution_count": null,
   "source": [
    "# curdoc().add_root(widg)"
   ],
   "outputs": [],
   "metadata": {}
  },
  {
   "cell_type": "code",
   "execution_count": null,
   "source": [
    "'''\r\n",
    "import import_ipynb\r\n",
    "from cov_leader import *\r\n",
    "from cov_wonder import *\r\n",
    "\r\n",
    "txt = open(\"5239.txt\", \"rt\", encoding=\"utf-16\")\r\n",
    "s = txt.readlines()\r\n",
    "txt.close()\r\n",
    "\r\n",
    "txt = open(\"conbo.txt\", \"wt\", encoding=\"utf-16\")\r\n",
    "for i in range(48+32):\r\n",
    "    if i < 48:\r\n",
    "        t1 = cov_num_to_leader(i)\r\n",
    "    else:\r\n",
    "        t1 = cov_num_to_wonder(i-48)\r\n",
    "    for j in range(48+32):\r\n",
    "        if j < 48:\r\n",
    "            t2 = cov_num_to_leader(j)\r\n",
    "        else:\r\n",
    "            t2 = cov_num_to_wonder(j-48)\r\n",
    "        leader_wonder = [t1, t2]\r\n",
    "        txt.write(leader_wonder[0] + \" \" + leader_wonder[1] + \" \")\r\n",
    "        win = 0\r\n",
    "        lose = 0\r\n",
    "        for k in range(1, len(s)):\r\n",
    "            s_s = s[k].split()\r\n",
    "            if leader_wonder[0] in s_s[5:9] or leader_wonder[0] in s_s[13:21]:\r\n",
    "                if leader_wonder[1] in s_s[5:9] or leader_wonder[1] in s_s[13:21]:\r\n",
    "                    win += 1\r\n",
    "            elif leader_wonder[0] in s_s[9:13] or leader_wonder[0] in s_s[21:]:\r\n",
    "                if leader_wonder[1] in s_s[9:13] or leader_wonder[1] in s_s[21:]:\r\n",
    "                    lose += 1\r\n",
    "\r\n",
    "        txt.write(str(win) + \" \" + str(lose)+\"\\n\")\r\n",
    "'''"
   ],
   "outputs": [
    {
     "output_type": "stream",
     "name": "stdout",
     "text": [
      "importing Jupyter notebook from cov_leader.ipynb\n",
      "importing Jupyter notebook from cov_wonder.ipynb\n"
     ]
    }
   ],
   "metadata": {}
  }
 ],
 "metadata": {
  "orig_nbformat": 4,
  "language_info": {
   "name": "python",
   "version": "3.9.1",
   "mimetype": "text/x-python",
   "codemirror_mode": {
    "name": "ipython",
    "version": 3
   },
   "pygments_lexer": "ipython3",
   "nbconvert_exporter": "python",
   "file_extension": ".py"
  },
  "kernelspec": {
   "name": "python3",
   "display_name": "Python 3.9.1 64-bit ('base': conda)"
  },
  "interpreter": {
   "hash": "0a799971df52ca6fd5baef64aa1b067bb920861fff589eb134f1303043de7988"
  }
 },
 "nbformat": 4,
 "nbformat_minor": 2
}