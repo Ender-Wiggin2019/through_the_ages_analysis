{
 "cells": [
  {
   "cell_type": "code",
   "execution_count": 182,
   "source": [
    "import pandas as pd\r\n",
    "import numpy as np"
   ],
   "outputs": [],
   "metadata": {}
  },
  {
   "cell_type": "code",
   "execution_count": 169,
   "source": [
    "df = pd.read_csv(\"./raw_data.csv\",encoding=\"utf-8\")"
   ],
   "outputs": [],
   "metadata": {}
  },
  {
   "cell_type": "code",
   "execution_count": 20,
   "source": [
    "# geenrate dim table\r\n",
    "# df2 = df.drop_duplicates()\r\n",
    "# leader = pd.concat([df2[\"wla\"],df2[\"wl1\"],df2[\"wl2\"],df2[\"wl3\"]]).drop_duplicates()\r\n",
    "# wonder = pd.concat([df2[\"ww1\"],df2[\"ww2\"],df2[\"ww3\"],df2[\"ww4\"],df2[\"ww5\"],df2[\"ww6\"]]).drop_duplicates()\r\n",
    "# leader = leader[leader!='0'].rename(\"leader\")\r\n",
    "# wonder = wonder[wonder!='0'].rename(\"wonder\")\r\n",
    "# leader.to_csv('./leader.csv',index=False)\r\n",
    "# wonder.to_csv('./wonder.csv',index=False)"
   ],
   "outputs": [],
   "metadata": {}
  },
  {
   "cell_type": "markdown",
   "source": [
    "## Player Win Rate"
   ],
   "metadata": {}
  },
  {
   "cell_type": "code",
   "execution_count": 138,
   "source": [
    "leader = pd.read_csv(\"./leader.csv\",encoding=\"utf-8\",index_col=\"leader\")\r\n",
    "wonder = pd.read_csv(\"./wonder.csv\",encoding=\"utf-8\",index_col=\"wonder\")"
   ],
   "outputs": [],
   "metadata": {}
  },
  {
   "cell_type": "code",
   "execution_count": 189,
   "source": [
    "def getLeaderResult(id):\r\n",
    "    res = pd.DataFrame(columns=[\"id\",\"card\",\"win\",\"lose\",\"winrate\"])\r\n",
    "    df_win = df[df[\"player_win\"]==id]\r\n",
    "    df_lose = df[df[\"player_lose\"]==id]\r\n",
    "    for i,v in leader.iterrows():\r\n",
    "        win = df_win[df_win[\"wl\"+v[0]]==i].shape[0]\r\n",
    "        lose = df_lose[df_lose[\"ll\"+v[0]]==i].shape[0]\r\n",
    "        res.loc[res.shape[0]] = [id,i,win,lose,win/(win+lose) if win+lose>0 else np.nan]\r\n",
    "    return res"
   ],
   "outputs": [],
   "metadata": {}
  },
  {
   "cell_type": "code",
   "execution_count": 192,
   "source": [
    "def getWonderResult(id):\r\n",
    "    res = pd.DataFrame(columns=[\"id\",\"card\",\"win\",\"lose\",\"winrate\"])\r\n",
    "    df_win = df[df[\"player_win\"]==id]\r\n",
    "    df_lose = df[df[\"player_lose\"]==id]\r\n",
    "    for i,v in wonder.iterrows():\r\n",
    "        win = df_win[(df_win[\"ww1\"]==i)|(df_win[\"ww2\"]==i)|(df_win[\"ww3\"]==i)|(df_win[\"ww4\"]==i)|(df_win[\"ww5\"]==i)|(df_win[\"ww6\"]==i)|(df_win[\"ww7\"]==i)|(df_win[\"ww8\"]==i)].shape[0]\r\n",
    "        lose = df_lose[(df_lose[\"lw1\"]==i)|(df_lose[\"lw2\"]==i)|(df_lose[\"lw3\"]==i)|(df_lose[\"lw4\"]==i)|(df_lose[\"lw5\"]==i)|(df_lose[\"lw6\"]==i)|(df_lose[\"lw7\"]==i)|(df_lose[\"lw8\"]==i)].shape[0]\r\n",
    "        res.loc[res.shape[0]] =  [id,i,win,lose,win/(win+lose) if win+lose>0 else np.nan]\r\n",
    "    return res"
   ],
   "outputs": [],
   "metadata": {}
  },
  {
   "cell_type": "code",
   "execution_count": 194,
   "source": [
    "df2 = getWonderResult(\"SuperDon\")\r\n",
    "df2.head()"
   ],
   "outputs": [
    {
     "output_type": "execute_result",
     "data": {
      "text/plain": [
       "         id  card win lose   winrate\n",
       "0  SuperDon  雅典卫城  20    6  0.769231\n",
       "1  SuperDon   大教堂   8    4  0.666667\n",
       "2  SuperDon  马丘比丘   7    3  0.700000\n",
       "3  SuperDon  空中花园   7    0  1.000000\n",
       "4  SuperDon   姬路城  19    4  0.826087"
      ],
      "text/html": [
       "<div>\n",
       "<style scoped>\n",
       "    .dataframe tbody tr th:only-of-type {\n",
       "        vertical-align: middle;\n",
       "    }\n",
       "\n",
       "    .dataframe tbody tr th {\n",
       "        vertical-align: top;\n",
       "    }\n",
       "\n",
       "    .dataframe thead th {\n",
       "        text-align: right;\n",
       "    }\n",
       "</style>\n",
       "<table border=\"1\" class=\"dataframe\">\n",
       "  <thead>\n",
       "    <tr style=\"text-align: right;\">\n",
       "      <th></th>\n",
       "      <th>id</th>\n",
       "      <th>card</th>\n",
       "      <th>win</th>\n",
       "      <th>lose</th>\n",
       "      <th>winrate</th>\n",
       "    </tr>\n",
       "  </thead>\n",
       "  <tbody>\n",
       "    <tr>\n",
       "      <th>0</th>\n",
       "      <td>SuperDon</td>\n",
       "      <td>雅典卫城</td>\n",
       "      <td>20</td>\n",
       "      <td>6</td>\n",
       "      <td>0.769231</td>\n",
       "    </tr>\n",
       "    <tr>\n",
       "      <th>1</th>\n",
       "      <td>SuperDon</td>\n",
       "      <td>大教堂</td>\n",
       "      <td>8</td>\n",
       "      <td>4</td>\n",
       "      <td>0.666667</td>\n",
       "    </tr>\n",
       "    <tr>\n",
       "      <th>2</th>\n",
       "      <td>SuperDon</td>\n",
       "      <td>马丘比丘</td>\n",
       "      <td>7</td>\n",
       "      <td>3</td>\n",
       "      <td>0.700000</td>\n",
       "    </tr>\n",
       "    <tr>\n",
       "      <th>3</th>\n",
       "      <td>SuperDon</td>\n",
       "      <td>空中花园</td>\n",
       "      <td>7</td>\n",
       "      <td>0</td>\n",
       "      <td>1.000000</td>\n",
       "    </tr>\n",
       "    <tr>\n",
       "      <th>4</th>\n",
       "      <td>SuperDon</td>\n",
       "      <td>姬路城</td>\n",
       "      <td>19</td>\n",
       "      <td>4</td>\n",
       "      <td>0.826087</td>\n",
       "    </tr>\n",
       "  </tbody>\n",
       "</table>\n",
       "</div>"
      ]
     },
     "metadata": {},
     "execution_count": 194
    }
   ],
   "metadata": {}
  },
  {
   "cell_type": "code",
   "execution_count": null,
   "source": [
    "'''\r\n",
    "import import_ipynb\r\n",
    "from cov_leader import *\r\n",
    "from cov_wonder import *\r\n",
    "\r\n",
    "txt = open(\"5239.txt\", \"rt\", encoding=\"utf-16\")\r\n",
    "s = txt.readlines()\r\n",
    "txt.close()\r\n",
    "\r\n",
    "txt = open(\"conbo.txt\", \"wt\", encoding=\"utf-16\")\r\n",
    "for i in range(48+32):\r\n",
    "    if i < 48:\r\n",
    "        t1 = cov_num_to_leader(i)\r\n",
    "    else:\r\n",
    "        t1 = cov_num_to_wonder(i-48)\r\n",
    "    for j in range(48+32):\r\n",
    "        if j < 48:\r\n",
    "            t2 = cov_num_to_leader(j)\r\n",
    "        else:\r\n",
    "            t2 = cov_num_to_wonder(j-48)\r\n",
    "        leader_wonder = [t1, t2]\r\n",
    "        txt.write(leader_wonder[0] + \" \" + leader_wonder[1] + \" \")\r\n",
    "        win = 0\r\n",
    "        lose = 0\r\n",
    "        for k in range(1, len(s)):\r\n",
    "            s_s = s[k].split()\r\n",
    "            if leader_wonder[0] in s_s[5:9] or leader_wonder[0] in s_s[13:21]:\r\n",
    "                if leader_wonder[1] in s_s[5:9] or leader_wonder[1] in s_s[13:21]:\r\n",
    "                    win += 1\r\n",
    "            elif leader_wonder[0] in s_s[9:13] or leader_wonder[0] in s_s[21:]:\r\n",
    "                if leader_wonder[1] in s_s[9:13] or leader_wonder[1] in s_s[21:]:\r\n",
    "                    lose += 1\r\n",
    "\r\n",
    "        txt.write(str(win) + \" \" + str(lose)+\"\\n\")\r\n",
    "'''"
   ],
   "outputs": [
    {
     "output_type": "stream",
     "name": "stdout",
     "text": [
      "importing Jupyter notebook from cov_leader.ipynb\n",
      "importing Jupyter notebook from cov_wonder.ipynb\n"
     ]
    }
   ],
   "metadata": {}
  }
 ],
 "metadata": {
  "orig_nbformat": 4,
  "language_info": {
   "name": "python",
   "version": "3.9.1",
   "mimetype": "text/x-python",
   "codemirror_mode": {
    "name": "ipython",
    "version": 3
   },
   "pygments_lexer": "ipython3",
   "nbconvert_exporter": "python",
   "file_extension": ".py"
  },
  "kernelspec": {
   "name": "python3",
   "display_name": "Python 3.9.1 64-bit ('base': conda)"
  },
  "interpreter": {
   "hash": "0a799971df52ca6fd5baef64aa1b067bb920861fff589eb134f1303043de7988"
  }
 },
 "nbformat": 4,
 "nbformat_minor": 2
}